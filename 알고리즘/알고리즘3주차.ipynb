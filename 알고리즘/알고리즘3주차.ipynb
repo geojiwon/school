{
  "nbformat": 4,
  "nbformat_minor": 0,
  "metadata": {
    "colab": {
      "provenance": [],
      "authorship_tag": "ABX9TyNSzoUYHhYfnd4xLfrEKs/4",
      "include_colab_link": true
    },
    "kernelspec": {
      "name": "python3",
      "display_name": "Python 3"
    },
    "language_info": {
      "name": "python"
    }
  },
  "cells": [
    {
      "cell_type": "markdown",
      "metadata": {
        "id": "view-in-github",
        "colab_type": "text"
      },
      "source": [
        "<a href=\"https://colab.research.google.com/github/geojiwon/school/blob/main/%EC%95%8C%EA%B3%A0%EB%A6%AC%EC%A6%98/%EC%95%8C%EA%B3%A0%EB%A6%AC%EC%A6%983%EC%A3%BC%EC%B0%A8.ipynb\" target=\"_parent\"><img src=\"https://colab.research.google.com/assets/colab-badge.svg\" alt=\"Open In Colab\"/></a>"
      ]
    },
    {
      "cell_type": "code",
      "execution_count": null,
      "metadata": {
        "colab": {
          "base_uri": "https://localhost:8080/"
        },
        "id": "D_gy5CJZp8Bo",
        "outputId": "7a5fd08d-fa5b-4739-bfc5-704f70b04403"
      },
      "outputs": [
        {
          "output_type": "stream",
          "name": "stdout",
          "text": [
            "0부터 9까지의 정수 20개를 띄어쓰기로 넣으시오:2 2 2 2 3 5 6 3 5 3 2 5 1 1 2 6 5 2 5 2 2\n",
            "숫자가 20개가 아닙니다.\n",
            "2\n",
            "None\n"
          ]
        }
      ],
      "source": [
        "def find_max():\n",
        "  a = list(map(int,input(\"0부터 9까지의 정수 20개를 띄어쓰기로 넣으시오:\").split()))\n",
        "  w_count=len(a)\n",
        "  if w_count == 20:\n",
        "    pass\n",
        "  else:\n",
        "    print(\"숫자가 20개가 아닙니다.\")\n",
        "  a_count = 0\n",
        "  max_int=a[0]\n",
        "  for i in range(1,20):\n",
        "      b_count = 0\n",
        "      if max_int == a[i]:\n",
        "        b_count += 1\n",
        "        if b_count >= a_count:\n",
        "          a_count = b_count\n",
        "          max_int = a[i]\n",
        "  print(max_int)\n",
        "\n",
        "print(find_max())"
      ]
    },
    {
      "cell_type": "markdown",
      "source": [],
      "metadata": {
        "id": "jDVs0jBPxnMz"
      }
    },
    {
      "cell_type": "code",
      "source": [
        "def infd_max():\n",
        "  count_list=[0]*10\n",
        "  a = list(map(int,input(\"0부터 9까지의 정수 20개를 띄어쓰기로 넣으시오:\").split()))\n",
        "\n",
        "  w_count=len(a)\n",
        "  if w_count == 20:\n",
        "    pass\n",
        "  else:\n",
        "    print(\"숫자가 %s개 입니다.\" %w_count)\n",
        "\n",
        "  for i in range(0,20):\n",
        "    count_list[a[i]] += 1\n",
        "  print(count_list)\n",
        "\n",
        "  max_count= count_list[0]\n",
        "  max_number=0\n",
        "  for j in range(1,10):\n",
        "    if max_count <= count_list[j]:\n",
        "      max_count = count_list[j]\n",
        "      max_number=j\n",
        "    elif max_count==count_list[j]:\n",
        "      max_number=j\n",
        "\n",
        "\n",
        "  return(max_number)\n",
        "\n",
        "result = infd_max()\n",
        "print(result)\n",
        "\n",
        "\n"
      ],
      "metadata": {
        "colab": {
          "base_uri": "https://localhost:8080/"
        },
        "id": "BbND6Jm9rPKz",
        "outputId": "fc60ca6e-675a-4e93-ffde-0286146e4da2"
      },
      "execution_count": null,
      "outputs": [
        {
          "output_type": "stream",
          "name": "stdout",
          "text": [
            "0부터 9까지의 정수 20개를 띄어쓰기로 넣으시오:0 1 1 1 1 1 2 2 2 2 2 2 2 1 1 1 2 2 3 2 \n",
            "[1, 8, 10, 1, 0, 0, 0, 0, 0, 0]\n",
            "2\n"
          ]
        }
      ]
    },
    {
      "cell_type": "code",
      "source": [],
      "metadata": {
        "id": "qdhDxYaL3n79"
      },
      "execution_count": null,
      "outputs": []
    }
  ]
}