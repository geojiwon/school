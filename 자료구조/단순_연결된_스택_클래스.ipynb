{
  "nbformat": 4,
  "nbformat_minor": 0,
  "metadata": {
    "colab": {
      "provenance": [],
      "authorship_tag": "ABX9TyM7pCRe26WmPN/0RfnThSiT",
      "include_colab_link": true
    },
    "kernelspec": {
      "name": "python3",
      "display_name": "Python 3"
    },
    "language_info": {
      "name": "python"
    }
  },
  "cells": [
    {
      "cell_type": "markdown",
      "metadata": {
        "id": "view-in-github",
        "colab_type": "text"
      },
      "source": [
        "<a href=\"https://colab.research.google.com/github/geojiwon/school/blob/main/%EC%9E%90%EB%A3%8C%EA%B5%AC%EC%A1%B0/%EB%8B%A8%EC%88%9C_%EC%97%B0%EA%B2%B0%EB%90%9C_%EC%8A%A4%ED%83%9D_%ED%81%B4%EB%9E%98%EC%8A%A4.ipynb\" target=\"_parent\"><img src=\"https://colab.research.google.com/assets/colab-badge.svg\" alt=\"Open In Colab\"/></a>"
      ]
    },
    {
      "cell_type": "markdown",
      "source": [
        "단순 연결된 스택 클래스"
      ],
      "metadata": {
        "id": "4Bk7340koadv"
      }
    },
    {
      "cell_type": "code",
      "source": [
        "class Node:\n",
        "  def __init__(self,elem,link=None):\n",
        "    self.data = elem\n",
        "    self.link = link"
      ],
      "metadata": {
        "id": "hVo_IBk_oeg5"
      },
      "execution_count": null,
      "outputs": []
    },
    {
      "cell_type": "code",
      "source": [
        "class LinkedStack:\n",
        "  def __init__(self):\n",
        "    self.top = None\n",
        "\n",
        "  def isEmpty(self):\n",
        "    return self.top == None\n",
        "\n",
        "  def isFull(self):\n",
        "    return False\n",
        "\n",
        "  def push(self,item):\n",
        "    n = Node(item,self.top)\n",
        "    self.top = n\n",
        "\n",
        "  def pop(self):\n",
        "    if not self.isEmpty():\n",
        "      n = self.top\n",
        "      self.top = n.link\n",
        "      return n.data\n",
        "\n",
        "  def peek(self):\n",
        "    if not self.isEmpty():\n",
        "      return self.top.data\n",
        "\n",
        "  def size(self):\n",
        "    node = self.top\n",
        "    count = 0\n",
        "    while not node == None:\n",
        "      node = node.link\n",
        "      count += 1\n",
        "    return count\n",
        "\n",
        "  def __str__(self):\n",
        "    arr =[]\n",
        "    node = self.top\n",
        "    while not node == None:\n",
        "      arr.append(node.data)\n",
        "      node = node.link\n",
        "    return str(arr)\n",
        "\n"
      ],
      "metadata": {
        "id": "riekj4qoouCY"
      },
      "execution_count": null,
      "outputs": []
    },
    {
      "cell_type": "code",
      "source": [
        "odd = LinkedStack()  # 홀수!\n",
        "even = LinkedStack()  # 짝수\n",
        "\n",
        "for i in range(10):\n",
        "  if i%2 == 0:\n",
        "    even.push(i)\n",
        "  else:\n",
        "    odd.push(i)\n",
        "\n",
        "print(\"스택 even push 5회: \", even)\n",
        "print(\"스택 odd push 5회: \", odd)\n",
        "print(\"=\" * 30)\n",
        "\n",
        "print(\"스택 even peek\", even.peek())\n",
        "print(\"스택 odd peek\", odd.peek())\n",
        "print(\"=\"*30)\n",
        "\n",
        "even.pop()\n",
        "even.pop()\n",
        "odd.pop()\n",
        "odd.pop()\n",
        "odd.pop()\n",
        "print(\"스택 even pop 2회: \", even)\n",
        "print(\"스택 odd pop 3회: \", odd)\n"
      ],
      "metadata": {
        "colab": {
          "base_uri": "https://localhost:8080/"
        },
        "id": "hwqQwOfUxRyN",
        "outputId": "20682b41-4941-4bc5-821c-e58da4a5e6af"
      },
      "execution_count": null,
      "outputs": [
        {
          "output_type": "stream",
          "name": "stdout",
          "text": [
            "스택 even push 5회:  [8, 6, 4, 2, 0]\n",
            "스택 odd push 5회:  [9, 7, 5, 3, 1]\n",
            "==============================\n",
            "스택 even peek 8\n",
            "스택 odd peek 9\n",
            "==============================\n",
            "스택 even pop 2회:  [4, 2, 0]\n",
            "스택 odd pop 3회:  [3, 1]\n",
            "<bound method LinkedStack.size of <__main__.LinkedStack object at 0x7d02733bdb40>>\n"
          ]
        }
      ]
    },
    {
      "cell_type": "markdown",
      "source": [
        "원형 연결된 큐!!!"
      ],
      "metadata": {
        "id": "W5mdKBg_24Xu"
      }
    },
    {
      "cell_type": "code",
      "source": [
        "class CircularLinkedQueue:\n",
        "\n",
        "  def __init__(self):\n",
        "    self.tail = None\n",
        "\n",
        "  def isEmpty(self):\n",
        "    return self.tail == None\n",
        "  def isFull(self):\n",
        "    return False\n",
        "  def peek(self):\n",
        "    if not self.isEmpty():\n",
        "      return self.tail.link.data  # 기억해!!! 큐는 front에서 enqueue,peek고 rear에서 dequeue야!!1\n",
        "\n",
        "  def enqueue(self,item):\n",
        "    node = Node(item,None)\n",
        "    if self.isEmpty():\n",
        "      node.link = node\n",
        "      self.tail = node\n",
        "    else:\n",
        "      node.link = self.tail.link\n",
        "      self.tail.link = node\n",
        "      self.tail = node\n",
        "\n",
        "  def dequeue(self):\n",
        "    if not self.isEmpty():\n",
        "      data = self.tail.link.data\n",
        "      if self.tail.link == self.tail:\n",
        "        self.tail = None\n",
        "      else:\n",
        "        self.tail.link = self.tail.link.link\n",
        "      return data\n",
        "\n",
        "  def size(self):\n",
        "    if self.isEmpty: return 0\n",
        "    else:\n",
        "      count = 1\n",
        "      node = self.tail.link\n",
        "      while not node == self.tail:\n",
        "        node = node.link\n",
        "        count += 1\n",
        "      return count\n",
        "\n",
        "  def __str__(self):\n",
        "    arr = []\n",
        "    if not self.isEmpty():\n",
        "      node = self.tail.link\n",
        "      while not node == self.tail:\n",
        "\n",
        "          arr.append(node.data)\n",
        "          node = node.link\n",
        "      arr.append(self.tail.data) #######주의!!!!!!!!!\n",
        "    return str(arr)\n"
      ],
      "metadata": {
        "id": "QXOSi9Rgz0TH"
      },
      "execution_count": null,
      "outputs": []
    },
    {
      "cell_type": "code",
      "source": [
        "q = CircularLinkedQueue()\n",
        "\n",
        "for i in range(8):\n",
        "  q.enqueue(i)\n",
        "print(\"0-7 삽입: \", q)\n",
        "\n",
        "for i in range(5):\n",
        "  q.dequeue()\n",
        "print(\"0-4 삭제: \", q)\n",
        "\n",
        "for i in range(8,14):\n",
        "  q.enqueue(i)\n",
        "print(\"8-13삽입: \", q)"
      ],
      "metadata": {
        "colab": {
          "base_uri": "https://localhost:8080/"
        },
        "id": "my9VEGaC8x7l",
        "outputId": "ca20ada6-9ccb-4d79-fffd-d66eec7bc616"
      },
      "execution_count": null,
      "outputs": [
        {
          "output_type": "stream",
          "name": "stdout",
          "text": [
            "0-7 삽입:  [0, 1, 2, 3, 4, 5, 6, 7]\n",
            "0-4 삭제:  [5, 6, 7]\n",
            "8-13삽입:  [5, 6, 7, 8, 9, 10, 11, 12, 13]\n"
          ]
        }
      ]
    },
    {
      "cell_type": "markdown",
      "source": [
        "이중연결 덱스 클래스"
      ],
      "metadata": {
        "id": "PEtq5uty4E22"
      }
    },
    {
      "cell_type": "code",
      "source": [
        "class DNode:\n",
        "  def __init__(self,elem,prev=None,next=None):\n",
        "    self.data = elem\n",
        "    self.prev = prev\n",
        "    self.next = next\n",
        "\n",
        "class DoublyLinkedDeque:\n",
        "  def __init__(self):\n",
        "    self.front = None\n",
        "    self.rear = None\n",
        "\n",
        "  def isEmpty(self):\n",
        "    return self.front == None\n",
        "  def isFull(self):\n",
        "    return False\n",
        "\n",
        "  def size(self):\n",
        "    node = self.front\n",
        "    count = 0\n",
        "    while not node == None:\n",
        "      count += 1\n",
        "      node = node.next\n",
        "\n",
        "  def __str__(self):\n",
        "    arr = []\n",
        "    node = self.front\n",
        "    while not node == None:\n",
        "      arr.append(node.data)\n",
        "      node = node.next\n",
        "    return str(arr)\n",
        "\n",
        "  def addFront(self,item):\n",
        "    node = DNode(item,None,self.front)\n",
        "    if self.isEmpty():\n",
        "      self.front = self.rear = node\n",
        "    else:\n",
        "      self.front.prev = node\n",
        "      self.front = node\n",
        "\n",
        "  def addRear(self,item):\n",
        "    node = DNode(item,self.rear,None)\n",
        "    if self.isEmpty():\n",
        "      self.rear = self.front = node\n",
        "    else:\n",
        "      self.rear.next = node\n",
        "      self.rear = node\n",
        "\n",
        "  def deleteFront(self):\n",
        "    if not self.isEmpty():\n",
        "      data = self.front.data\n",
        "      self.front = self.front.next\n",
        "      if self.front == None:\n",
        "        self.rear = None\n",
        "      else:\n",
        "        self.front.prev = None\n",
        "      return data\n",
        "\n",
        "  def deleteRear(self):\n",
        "    if not self.isEmpty():\n",
        "      data = self.rear.data\n",
        "      self.rear = self.rear.prev\n",
        "      if self.rear == None:\n",
        "        self.front = None\n",
        "      else:\n",
        "        self.rear.next = None\n",
        "      return data"
      ],
      "metadata": {
        "id": "_3nr9fiB9cWa"
      },
      "execution_count": null,
      "outputs": []
    },
    {
      "cell_type": "code",
      "source": [
        "dq = DoublyLinkedDeque()\n",
        "for i in range(9):\n",
        "  if i % 2 == 0:\n",
        "    dq.addRear(i)\n",
        "  else: dq.addFront(i)\n",
        "print(\"DoublyLinkedList: \", dq)\n",
        "\n",
        "for i in range(2):\n",
        "  dq.deleteFront()\n",
        "for i in range(3):\n",
        "  dq.deleteRear()\n",
        "print(\"DoublyLinkedList: \", dq)\n",
        "\n",
        "for i in range(9,14):\n",
        "  dq.addFront(i)\n",
        "print(\"DoublyLinkedList: \", dq)\n"
      ],
      "metadata": {
        "colab": {
          "base_uri": "https://localhost:8080/"
        },
        "id": "rPc9AcLIBO0Y",
        "outputId": "307ef334-cc7a-4196-9aec-4539e58b987d"
      },
      "execution_count": null,
      "outputs": [
        {
          "output_type": "stream",
          "name": "stdout",
          "text": [
            "DoublyLinkedList:  [7, 5, 3, 1, 0, 2, 4, 6, 8]\n",
            "DoublyLinkedList:  [3, 1, 0, 2]\n",
            "DoublyLinkedList:  [13, 12, 11, 10, 9, 3, 1, 0, 2]\n"
          ]
        }
      ]
    },
    {
      "cell_type": "code",
      "source": [
        "class Node:\n",
        "  def __init__(self,elem,link=None):\n",
        "    self.data = elem\n",
        "    self.link = link\n",
        "\n",
        "class LinkedQueue:\n",
        "  def __init__(self):\n",
        "    self.front = None\n",
        "    self.rear = None\n",
        "\n",
        "  def isEmpty(self):\n",
        "    return self.front == None\n",
        "  def isFull(self):\n",
        "    return False\n",
        "\n",
        "  def enqueue(self,item):\n",
        "    node = Node(item,None)\n",
        "    if self.isEmpty():\n",
        "      self.front = self.rear =node\n",
        "    else:\n",
        "      self.rear.link = node\n",
        "      self.rear = node\n",
        "\n",
        "  def dequeue(self):\n",
        "    if not self.isEmpty():\n",
        "      data = self.front.data\n",
        "      self.front = self.front.link\n",
        "      if self.front == None:\n",
        "        self.rear = None\n",
        "      return data\n",
        "\n",
        "  def __str__(self):\n",
        "    arr = []\n",
        "    node = self.front\n",
        "    while not node == None:\n",
        "      arr.append(node.data)\n",
        "      node = node.link\n",
        "    return str(arr)\n"
      ],
      "metadata": {
        "id": "1GSstKhXDOjh"
      },
      "execution_count": null,
      "outputs": []
    },
    {
      "cell_type": "code",
      "source": [
        "queue = LinkedQueue()\n",
        "\n",
        "queue.enqueue(\"사과\")\n",
        "queue.enqueue(\"바나나\")\n",
        "queue.enqueue(\"수박\")\n",
        "\n",
        "print(queue)\n",
        "\n",
        "queue.dequeue()\n",
        "print(queue)"
      ],
      "metadata": {
        "colab": {
          "base_uri": "https://localhost:8080/"
        },
        "id": "N-Is5I6yMi6N",
        "outputId": "99130787-b867-48fd-e676-d03b9a58b8d7"
      },
      "execution_count": null,
      "outputs": [
        {
          "output_type": "stream",
          "name": "stdout",
          "text": [
            "['사과', '바나나', '수박']\n",
            "['바나나', '수박']\n"
          ]
        }
      ]
    }
  ]
}