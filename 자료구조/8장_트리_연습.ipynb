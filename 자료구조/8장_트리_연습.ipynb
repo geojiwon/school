{
  "nbformat": 4,
  "nbformat_minor": 0,
  "metadata": {
    "colab": {
      "provenance": [],
      "authorship_tag": "ABX9TyP3fXmUEUeRvOtpO3aJzfWk",
      "include_colab_link": true
    },
    "kernelspec": {
      "name": "python3",
      "display_name": "Python 3"
    },
    "language_info": {
      "name": "python"
    }
  },
  "cells": [
    {
      "cell_type": "markdown",
      "metadata": {
        "id": "view-in-github",
        "colab_type": "text"
      },
      "source": [
        "<a href=\"https://colab.research.google.com/github/geojiwon/school/blob/main/%EC%9E%90%EB%A3%8C%EA%B5%AC%EC%A1%B0/8%EC%9E%A5_%ED%8A%B8%EB%A6%AC_%EC%97%B0%EC%8A%B5.ipynb\" target=\"_parent\"><img src=\"https://colab.research.google.com/assets/colab-badge.svg\" alt=\"Open In Colab\"/></a>"
      ]
    },
    {
      "cell_type": "code",
      "source": [
        "class CircularQueue:\n",
        "  def __init__(self,capacity=10):\n",
        "    self.capacity=capacity\n",
        "    self.array=[None]*capacity\n",
        "    self.rear=0\n",
        "    self.front=0\n",
        "\n",
        "  def isEmpty(self):\n",
        "    return self.rear == self.front\n",
        "\n",
        "  def isFull(self):\n",
        "    return (self.rear +1)% self.capacity == self.front\n",
        "\n",
        "  def enqueue(self,item):\n",
        "    if not self.isFull():\n",
        "      self.rear = (self.rear+1) % self.capacity\n",
        "      self.array[self.rear] = item\n",
        "    else: pass\n",
        "\n",
        "  def dequeue(self):\n",
        "    if not self.isEmpty():\n",
        "      self.front = (self.front +1) % self.capacity\n",
        "      return self.array[(self.front)]\n",
        "    else: pass\n",
        "\n",
        "  def peek(self):\n",
        "    if not self.isEmpty():\n",
        "      return self.array[(self.front +1)% self.capacity]\n",
        "    else: pass\n",
        "\n",
        "  def size(self):\n",
        "    return (self.rear-self.front+self.capacity) % self.capacity\n",
        "\n",
        "  def diplay(self):\n",
        "    out = []\n",
        "    if self.front < self.rear:\n",
        "      out = self.array[self.front+1:self.rear+1]\n",
        "    else:\n",
        "      out = self.array[self.front+1:self.capacity]+self.array[0:self.rear+1]\n",
        "    print(\"[f=%s,r=%d]==>\" % (self.front,self.rear),out)"
      ],
      "metadata": {
        "id": "IK-SZFq58ku-"
      },
      "execution_count": null,
      "outputs": []
    },
    {
      "cell_type": "code",
      "execution_count": null,
      "metadata": {
        "id": "Cl1IMHYe0bkZ"
      },
      "outputs": [],
      "source": [
        "class TNode:\n",
        "  def __init__(self,data,left,right):\n",
        "    self.data=data\n",
        "    self.left=left\n",
        "    self.right=right\n",
        "\n",
        "  def preorder(self,n):\n",
        "    if n is not None:\n",
        "      print(n.data, end=' ')\n",
        "      self.preorder(n.left)\n",
        "      self.preorder(n.right)\n",
        "  def inorder(self,n):\n",
        "    if n is not None:\n",
        "      self.inorder(n.left)\n",
        "      print(n.data,end=' ')\n",
        "      self.inorder(n.right)\n",
        "\n",
        "  def postorder(self,n):\n",
        "    if n is not None:\n",
        "      self.postorder(n.left)\n",
        "      self.postorder(n.right)\n",
        "      print(n.data,end=' ')\n",
        "\n",
        "  def levelorder(self,root):\n",
        "    queue = CircularQueue()\n",
        "    queue.enqueue(root)\n",
        "    while not queue.isEmpty():\n",
        "      n=queue.dequeue()\n",
        "      if n is not None:\n",
        "        print(n.data,end=' ')\n",
        "        queue.enqueue(n.left)\n",
        "        queue.enqueue(n.right)\n",
        "\n",
        "  def count_node(self,n):\n",
        "    if n is None:\n",
        "      return 0\n",
        "    else:\n",
        "      return 1 + self.count_node(n.left) + self.count_node(n.right)\n",
        "\n",
        "  def count_leaf(self,n):\n",
        "    if n is None:\n",
        "      return 0\n",
        "    elif n.left == None and n.right == None:\n",
        "      return 1\n",
        "    else:\n",
        "      return self.count_leaf(n.left)+self.count_leaf(n.right)\n",
        "\n",
        "  def calc_height(self,n):\n",
        "    if n is None:\n",
        "      return 0\n",
        "    else:\n",
        "      hLeft = self.calc_height(n.left)\n",
        "      hRight= self.calc_height(n.right)\n",
        "      if (hLeft>hRight):\n",
        "        return hLeft+1\n",
        "      else:\n",
        "        return hRight+1\n",
        "\n",
        "\n",
        "\n",
        "\n",
        "\n",
        "\n"
      ]
    },
    {
      "cell_type": "code",
      "source": [
        "d = TNode('D',None,None)\n",
        "e = TNode('E',None,None)\n",
        "b = TNode('B',d,e)\n",
        "f = TNode('F',None,None)\n",
        "c = TNode('C',f,None)\n",
        "root = TNode('A',b,c)\n",
        "\n",
        "print('\\n   In-Order: ', end = '')\n",
        "root.inorder(root)\n",
        "print('\\n  Pre-Order: ', end = '')\n",
        "root.preorder(root)\n",
        "print('\\n Post-Order: ', end = '')\n",
        "root.postorder(root)\n",
        "print('\\nLevel-Order: ', end = '')\n",
        "root.levelorder(root)\n",
        "print()\n",
        "\n",
        "print(\"노드의 개수 = %d개 \" % (root.count_node(root)))\n",
        "print(\"단말노드의 개수 = %d개\" % root.count_leaf(root))\n",
        "print(\"트리의 높이 = %d\" % root.calc_height(root))\n"
      ],
      "metadata": {
        "colab": {
          "base_uri": "https://localhost:8080/"
        },
        "id": "gvNebf2X1xgF",
        "outputId": "ef58edd7-83ff-4545-e15f-3ab10a91296e"
      },
      "execution_count": null,
      "outputs": [
        {
          "output_type": "stream",
          "name": "stdout",
          "text": [
            "\n",
            "   In-Order: D B E A F C \n",
            "  Pre-Order: A B D E C F \n",
            " Post-Order: D E B F C A \n",
            "Level-Order: A B C D E F \n",
            "노드의 개수 = 6개 \n",
            "단말노드의 개수 = 3개\n",
            "트리의 높이 = 3\n"
          ]
        }
      ]
    },
    {
      "cell_type": "code",
      "source": [
        "class CircularQueue:\n",
        "  def __init__(self,capacity=10):\n",
        "    self.capacity=capacity\n",
        "    self.array=[None]*capacity\n",
        "    self.rear=0\n",
        "    self.front=0\n",
        "\n",
        "  def isEmpty(self):\n",
        "    return self.rear == self.front\n",
        "\n",
        "  def isFull(self):\n",
        "    return (self.rear+1)%self.capacity==self.front\n",
        "\n",
        "  def enqueue(self,item):\n",
        "    if not self.isFull():\n",
        "      self.rear = (self.rear + 1)%self.capacity\n",
        "      self.array[self.rear]=item\n",
        "    else:pass\n",
        "\n",
        "  def dequeue(self):\n",
        "    if not self.isEmpty():\n",
        "      self.front = (self.front + 1)% self.capacity\n",
        "      return self.array[self.front]\n",
        "    else: pass\n",
        "\n",
        "  def peek(self):\n",
        "    if not self.isEmpty():\n",
        "      return self.array[(self.front+1)%self.capacity]\n",
        "    else: pass\n",
        "\n",
        "  def size(self):\n",
        "    return (self.rear-self.front+self.capacity) % self.capacity\n",
        "\n",
        "  def __str__(self):\n",
        "    if self.front < self.rear :\n",
        "      return str(self.array[self.front+1:self.rear+1])\n",
        "    else:\n",
        "      return str(self.array[self.front+1:self.capacity]+self.array[0:self.rear+1])\n",
        "####### 주의하시오!!! [self.front+1:self.capacity]+[0:self.rear+1]이라네!!!\n",
        "####### 이유는 하나 더해서 써야하자나 뒤쪽에는. 알지?\n",
        "\n",
        "\n",
        "\n",
        "\n"
      ],
      "metadata": {
        "id": "oDRBfiWV7DZy"
      },
      "execution_count": null,
      "outputs": []
    },
    {
      "cell_type": "code",
      "source": [
        "q = CircularQueue(8)\n",
        "q.enqueue('A')\n",
        "q.enqueue('B')\n",
        "q.enqueue('C')\n",
        "q.enqueue('D')\n",
        "q.enqueue('E')\n",
        "q.enqueue('F')\n",
        "print('ABCDEF 삽입: ',q)\n",
        "print('삭제-->',q.dequeue())\n",
        "print('삭제-->',q.dequeue())\n",
        "print('삭제-->',q.dequeue())\n",
        "print(\"3번 삭제:\",q)\n",
        "q.enqueue('G')\n",
        "q.enqueue('H')\n",
        "q.enqueue('I')\n",
        "print(' GHI 삽입:',q)\n",
        "print(q.size())\n",
        "print(q.peek())"
      ],
      "metadata": {
        "colab": {
          "base_uri": "https://localhost:8080/"
        },
        "id": "V-rBbB6g_1Br",
        "outputId": "3d42ad3b-83df-4c27-85db-b9fb98130e58"
      },
      "execution_count": null,
      "outputs": [
        {
          "output_type": "stream",
          "name": "stdout",
          "text": [
            "ABCDEF 삽입:  ['A', 'B', 'C', 'D', 'E', 'F']\n",
            "삭제--> A\n",
            "삭제--> B\n",
            "삭제--> C\n",
            "3번 삭제: ['D', 'E', 'F']\n",
            " GHI 삽입: ['D', 'E', 'F', 'G', 'H', 'I']\n",
            "6\n",
            "D\n"
          ]
        }
      ]
    },
    {
      "cell_type": "code",
      "source": [
        "class TNode:\n",
        "  def __init__(self,data,left,right):\n",
        "    self.data=data\n",
        "    self.left=left\n",
        "    self.right=right\n",
        "\n",
        "  def preorder(self,n):\n",
        "    if n is not None:\n",
        "      print(n.data, end= \" \")\n",
        "      self.preorder(n.left)\n",
        "      self.preorder(n.right)\n",
        "\n",
        "  def inorder(self,n):\n",
        "    if n is not None:\n",
        "      self.inorder(n.left)\n",
        "      print(n.data,end=\" \")\n",
        "      self.inorder(n.right)\n",
        "\n",
        "  def postorder(self,n):\n",
        "    if n is not None:\n",
        "      self.postorder(n.left)\n",
        "      self.postorder(n.right)\n",
        "      print(n.data,end=\" \")\n",
        "\n",
        "  def levelorder(self,root):\n",
        "    queue = CircularQueue()\n",
        "    queue.enqueue(root)\n",
        "    while not queue.isEmpty():\n",
        "      n = queue.dequeue()\n",
        "      if n is not None:\n",
        "        print(n.data,end=\" \")\n",
        "        queue.enqueue(n.left)\n",
        "        queue.enqueue(n.right)\n",
        "\n",
        "  def count_node(self,n):\n",
        "    if n is None:\n",
        "      return 0\n",
        "    else:\n",
        "      return 1 + self.count_node(n.left) + self.count_node(n.right)\n",
        "\n",
        "  def count_leaf(self,n):\n",
        "    if n is None:\n",
        "      return 0\n",
        "    elif n.left == None and n.right == None:\n",
        "      return 1\n",
        "    else:\n",
        "      return self.count_leaf(n.left)+self.count_leaf(n.right)\n",
        "\n",
        "  def calc_height(self,n):\n",
        "    if n is None:\n",
        "      return 0\n",
        "    else:\n",
        "        hLeft = self.calc_height(n.left)\n",
        "        hRight = self.calc_height(n.right)\n",
        "        if hLeft > hRight:\n",
        "          return hLeft +1\n",
        "        else:\n",
        "          return hRight +1"
      ],
      "metadata": {
        "id": "xTPW5y0h6tNV"
      },
      "execution_count": null,
      "outputs": []
    },
    {
      "cell_type": "code",
      "source": [
        "d = TNode('D',None,None)\n",
        "e = TNode('E',None,None)\n",
        "b = TNode('B',d,e)\n",
        "f = TNode('F',None,None)\n",
        "c = TNode('C',f,None)\n",
        "root = TNode('A',b,c)"
      ],
      "metadata": {
        "id": "JhbLVWUhHNlz"
      },
      "execution_count": null,
      "outputs": []
    }
  ]
}