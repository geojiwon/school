{
  "nbformat": 4,
  "nbformat_minor": 0,
  "metadata": {
    "colab": {
      "provenance": [],
      "authorship_tag": "ABX9TyNBWTqGNLOdUEwvCs+cpp5Y",
      "include_colab_link": true
    },
    "kernelspec": {
      "name": "python3",
      "display_name": "Python 3"
    },
    "language_info": {
      "name": "python"
    }
  },
  "cells": [
    {
      "cell_type": "markdown",
      "metadata": {
        "id": "view-in-github",
        "colab_type": "text"
      },
      "source": [
        "<a href=\"https://colab.research.google.com/github/geojiwon/school/blob/main/%EC%9E%90%EB%A3%8C%EA%B5%AC%EC%A1%B0/%EC%9B%90%ED%98%95%ED%81%90%EB%A5%BC%EC%9D%B4%EC%9A%A9%ED%95%9C%EB%AF%B8%EB%A1%9C%ED%83%90%EC%83%89%EA%B5%AC%ED%98%84%EB%B0%8F_%EC%8B%A4%ED%96%89.ipynb\" target=\"_parent\"><img src=\"https://colab.research.google.com/assets/colab-badge.svg\" alt=\"Open In Colab\"/></a>"
      ]
    },
    {
      "cell_type": "code",
      "source": [
        "class ArrayStack:\n",
        "\n",
        "  def __init__(self,capacity):\n",
        "    self.capacity = capacity\n",
        "    self.array = [None] * self.capacity\n",
        "    self.top = -1\n",
        "\n",
        "  def isEmpty(self):\n",
        "    return self.top == -1\n",
        "\n",
        "  def isFull(self):\n",
        "    return self.top == self.capacity-1\n",
        "\n",
        "  def push(self,e):\n",
        "    if not self.isFull():\n",
        "      self.top += 1\n",
        "      self.array[self.top] = e\n",
        "    else: pass\n",
        "\n",
        "  def pop(self):\n",
        "    if not self.isEmpty():\n",
        "      self.top -= 1\n",
        "      return self.array[self.top+1]\n",
        "\n",
        "  def peek(self):\n",
        "    if not self.isEmpty():\n",
        "      return self.array[self.top]\n",
        "\n",
        "  def __str__(self):\n",
        "    return str(self.array[0:self.top+1])"
      ],
      "metadata": {
        "id": "yb0YEBPsy9CT"
      },
      "execution_count": null,
      "outputs": []
    },
    {
      "cell_type": "code",
      "source": [
        "def isValidPos(x,y):\n",
        "  if 0<=x<MAZE_SIZE and 0<=y < MAZE_SIZE:\n",
        "    if map[y][x] == '0' or map[y][x] == 'x':\n",
        "      return True\n",
        "  return False"
      ],
      "metadata": {
        "id": "6niaCiYpPVyq"
      },
      "execution_count": null,
      "outputs": []
    },
    {
      "cell_type": "code",
      "source": [
        "def DFS():\n",
        "  print('DFS: ')\n",
        "  stack = ArrayStack(100)\n",
        "  stack.push((0,1))\n",
        "\n",
        "  while not stack.isEmpty():\n",
        "    here = stack.pop()\n",
        "    print(here,end='->')\n",
        "    (x,y) = here\n",
        "\n",
        "    if (map[y][x]== 'x'):\n",
        "      return True\n",
        "    else:\n",
        "      map[y][x]='.'\n",
        "      if isValidPos(x,y-1):\n",
        "        stack.push((x,y-1))\n",
        "      if isValidPos(x,y+1):\n",
        "        stack.push((x,y+1))\n",
        "      if isValidPos(x-1,y):\n",
        "        stack.push((x-1,y))\n",
        "      if isValidPos(x+1,y):\n",
        "        stack.push((x+1,y))\n",
        "    print('현재스택: ',stack)\n",
        "\n",
        "  return False"
      ],
      "metadata": {
        "id": "iKdJxwWzyZB4"
      },
      "execution_count": null,
      "outputs": []
    },
    {
      "cell_type": "code",
      "source": [
        "map = [ ['1','1','1','1','1','1'],\n",
        "        ['e','0','0','0','0','1'],\n",
        "        ['1','0','1','0','1','1'],\n",
        "        ['1','1','1','0','0','x'],\n",
        "        ['1','1','1','0','1','1'],\n",
        "        ['1','1','1','1','1','1']]\n",
        "\n",
        "MAZE_SIZE = 6"
      ],
      "metadata": {
        "id": "IPmZBIJq3ci6"
      },
      "execution_count": null,
      "outputs": []
    },
    {
      "cell_type": "code",
      "source": [
        "result = DFS()\n",
        "if result : print('-->미로탐색성공')\n",
        "else: print('미로탐색실패')"
      ],
      "metadata": {
        "colab": {
          "base_uri": "https://localhost:8080/"
        },
        "id": "XrCBAvhd7rvl",
        "outputId": "302e3cdb-c52b-4e58-932a-152be2571d16"
      },
      "execution_count": null,
      "outputs": [
        {
          "output_type": "stream",
          "name": "stdout",
          "text": [
            "DFS: \n",
            "(0, 1)->현재스택:  [(1, 1)]\n",
            "(1, 1)->현재스택:  [(1, 2), (2, 1)]\n",
            "(2, 1)->현재스택:  [(1, 2), (3, 1)]\n",
            "(3, 1)->현재스택:  [(1, 2), (3, 2), (4, 1)]\n",
            "(4, 1)->현재스택:  [(1, 2), (3, 2)]\n",
            "(3, 2)->현재스택:  [(1, 2), (3, 3)]\n",
            "(3, 3)->현재스택:  [(1, 2), (3, 4), (4, 3)]\n",
            "(4, 3)->현재스택:  [(1, 2), (3, 4), (5, 3)]\n",
            "(5, 3)->-->미로탐색성공\n"
          ]
        }
      ]
    },
    {
      "cell_type": "code",
      "source": [],
      "metadata": {
        "id": "hM1zb9kC3yKG"
      },
      "execution_count": null,
      "outputs": []
    },
    {
      "cell_type": "code",
      "source": [],
      "metadata": {
        "id": "Tj-u7j9i3y6f"
      },
      "execution_count": null,
      "outputs": []
    }
  ]
}