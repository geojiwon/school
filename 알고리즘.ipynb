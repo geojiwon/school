{
  "nbformat": 4,
  "nbformat_minor": 0,
  "metadata": {
    "colab": {
      "provenance": [],
      "authorship_tag": "ABX9TyPaKWRrKZkgZ920P7r0ySea",
      "include_colab_link": true
    },
    "kernelspec": {
      "name": "python3",
      "display_name": "Python 3"
    },
    "language_info": {
      "name": "python"
    }
  },
  "cells": [
    {
      "cell_type": "markdown",
      "metadata": {
        "id": "view-in-github",
        "colab_type": "text"
      },
      "source": [
        "<a href=\"https://colab.research.google.com/github/geojiwon/school/blob/main/%EC%95%8C%EA%B3%A0%EB%A6%AC%EC%A6%98.ipynb\" target=\"_parent\"><img src=\"https://colab.research.google.com/assets/colab-badge.svg\" alt=\"Open In Colab\"/></a>"
      ]
    },
    {
      "cell_type": "markdown",
      "source": [
        "# 프로그램 1-1. 1부터 n까지 연속한 숫자의 합을 구하는 알고리즘"
      ],
      "metadata": {
        "id": "UfS8X6K1rq6N"
      }
    },
    {
      "cell_type": "code",
      "source": [
        "def sum_n(n):\n",
        "  s=0\n",
        "  for i in range(n+1):\n",
        "    s += i\n",
        "  return s\n",
        "\n",
        "print(sum_n(10))\n",
        "print(sum_n(100))\n",
        "\n"
      ],
      "metadata": {
        "colab": {
          "base_uri": "https://localhost:8080/"
        },
        "id": "tp7pir-Crqqe",
        "outputId": "d9f691d0-359c-40f0-de3e-a6156cdba30d"
      },
      "execution_count": null,
      "outputs": [
        {
          "output_type": "stream",
          "name": "stdout",
          "text": [
            "55\n",
            "5050\n"
          ]
        }
      ]
    },
    {
      "cell_type": "markdown",
      "source": [
        "# 프로그램 1-2. 1부터 n까지 연속한 숫자의 합을 구하는 알고리즘"
      ],
      "metadata": {
        "id": "mUg640clsTii"
      }
    },
    {
      "cell_type": "code",
      "source": [
        "def sum_n(n):\n",
        "  s = (1+n)*n // 2\n",
        "  return s\n",
        "\n",
        "print(sum_n(10))\n",
        "print(sum_n(100))"
      ],
      "metadata": {
        "colab": {
          "base_uri": "https://localhost:8080/"
        },
        "id": "b1StZQiusTVA",
        "outputId": "90006375-9cbc-44f2-b1c5-8d47195bf354"
      },
      "execution_count": null,
      "outputs": [
        {
          "output_type": "stream",
          "name": "stdout",
          "text": [
            "55\n",
            "5050\n"
          ]
        }
      ]
    },
    {
      "cell_type": "markdown",
      "source": [
        "# 연습문제 1-1. 연속한 숫자의 제곱의 합 for문 이용\n",
        "\n",
        "## O(n)"
      ],
      "metadata": {
        "id": "gpk9uO-KtFNE"
      }
    },
    {
      "cell_type": "code",
      "source": [
        "def sumsum_n(n):\n",
        "  ss=0\n",
        "  for i in range(n+1):\n",
        "    ss += i**2\n",
        "  return ss\n",
        "\n",
        "print(sumsum_n(10))\n",
        "\n"
      ],
      "metadata": {
        "colab": {
          "base_uri": "https://localhost:8080/"
        },
        "id": "1_GG2C5ztE6e",
        "outputId": "a9b210fd-0ba4-42ca-811b-efbeed9d6855"
      },
      "execution_count": null,
      "outputs": [
        {
          "output_type": "stream",
          "name": "stdout",
          "text": [
            "385\n"
          ]
        }
      ]
    },
    {
      "cell_type": "markdown",
      "source": [
        "# 연습문제1-3. 연속한 숫자의 제곱의 합 (공식이용)\n",
        "\n",
        "O(1)"
      ],
      "metadata": {
        "id": "ntgfDFSOwqwA"
      }
    },
    {
      "cell_type": "code",
      "source": [
        "def sumsum_n(n):\n",
        "  return n*(n+1)*(2*n+1)//6\n",
        "\n",
        "print(sumsum_n(10))"
      ],
      "metadata": {
        "colab": {
          "base_uri": "https://localhost:8080/"
        },
        "id": "DkD0wbiywQx8",
        "outputId": "eac7af2d-a027-4c3f-a5be-ce4b18b1dd74"
      },
      "execution_count": null,
      "outputs": [
        {
          "output_type": "stream",
          "name": "stdout",
          "text": [
            "385\n"
          ]
        }
      ]
    },
    {
      "cell_type": "markdown",
      "source": [
        "# 프로그램2-1. 최댓값을 구하는 알고리즘"
      ],
      "metadata": {
        "id": "WtCka4Tpfkcy"
      }
    },
    {
      "cell_type": "code",
      "source": [
        "def find_max(a):\n",
        "  max_idx = 0\n",
        "  n = len(a)\n",
        "  for i in range(1,n):\n",
        "    if a[i]>a[max_idx]:\n",
        "      max_idx=i\n",
        "  return a[max_idx]\n",
        "\n",
        "v=[17,92,18,33,58,7,33,42]\n",
        "print(find_max(v))"
      ],
      "metadata": {
        "colab": {
          "base_uri": "https://localhost:8080/"
        },
        "id": "MOvz8Xhlfk4d",
        "outputId": "8da89847-e890-4777-ba0d-223740aaf8da"
      },
      "execution_count": null,
      "outputs": [
        {
          "output_type": "stream",
          "name": "stdout",
          "text": [
            "92\n"
          ]
        }
      ]
    },
    {
      "cell_type": "markdown",
      "source": [
        "# 프로그램2-2.최댓값의 위치를 구하는 알고리즘"
      ],
      "metadata": {
        "id": "8BqWT5Nwge4_"
      }
    },
    {
      "cell_type": "code",
      "source": [
        "def find_max_idx(a):\n",
        "  n = len(a)\n",
        "  max_idx=0\n",
        "  for i in range(1,n):\n",
        "    if a[i]>a[max_idx]:\n",
        "      max_idx=i\n",
        "  return max_idx\n",
        "\n",
        "v=[17,92,18,33,58,7,33,42]\n",
        "print(find_max_idx(v))"
      ],
      "metadata": {
        "colab": {
          "base_uri": "https://localhost:8080/"
        },
        "id": "btwwu4qkg_xV",
        "outputId": "1bf36394-589b-4a43-b387-41740a791367"
      },
      "execution_count": null,
      "outputs": [
        {
          "output_type": "stream",
          "name": "stdout",
          "text": [
            "1\n"
          ]
        }
      ]
    },
    {
      "cell_type": "markdown",
      "source": [
        "# 연습문제 2-1. 숫자 n개를 리스트 입력받아 최솟값을 구하는 프로그램\n"
      ],
      "metadata": {
        "id": "XlMKphdkhkKs"
      }
    },
    {
      "cell_type": "code",
      "source": [
        "def find_min(a):\n",
        "  n = len(a)\n",
        "  min_idx=0\n",
        "  for i in range(1,n):\n",
        "    if a[min_idx] > a[i]:\n",
        "      min_idx=i\n",
        "  return a[min_idx]\n",
        "\n",
        "v = list(map(int,(input(\"리스트를 입력해보세요: \").split())))\n",
        "print(v)\n",
        "print(find_min(v))"
      ],
      "metadata": {
        "colab": {
          "base_uri": "https://localhost:8080/"
        },
        "id": "FE5JC7pPhkhI",
        "outputId": "5c358e59-543c-4001-b4e9-cbe569f08aab"
      },
      "execution_count": null,
      "outputs": [
        {
          "output_type": "stream",
          "name": "stdout",
          "text": [
            "리스트를 입력해보세요: 2 63 1 2 5 6 2 0\n",
            "[2, 63, 1, 2, 5, 6, 2, 0]\n",
            "0\n"
          ]
        }
      ]
    },
    {
      "cell_type": "markdown",
      "source": [
        "# 프로그램3-1. 동명이인 찾기\n",
        "O(n^2)"
      ],
      "metadata": {
        "id": "c0HASg9LizBQ"
      }
    },
    {
      "cell_type": "code",
      "source": [
        "def find_same_name(a):\n",
        "  n=len(a)\n",
        "  result=set()\n",
        "  for i in range(n-1):\n",
        "    for j in range(i+1,n):\n",
        "      if a[i] == a[j]:\n",
        "        result.add(a[i])\n",
        "  return result\n",
        "\n",
        "v= [\"니얼굴\", \"니똥꼬\", \"니냄새\", \"니얼굴\"]\n",
        "print(find_same_name(v))\n",
        "\n",
        "m = [\"개똥\", \"소똥\", \"니똥\", \"내똥\", \"지원\", \"지원\", \"지원\", \"내똥\"]\n",
        "print(find_same_name(m))"
      ],
      "metadata": {
        "colab": {
          "base_uri": "https://localhost:8080/"
        },
        "id": "AHCJ_cDBizgS",
        "outputId": "52466ddf-4256-493a-be5f-925a9897922e"
      },
      "execution_count": null,
      "outputs": [
        {
          "output_type": "stream",
          "name": "stdout",
          "text": [
            "{'니얼굴'}\n",
            "{'지원', '내똥'}\n"
          ]
        }
      ]
    },
    {
      "cell_type": "markdown",
      "source": [
        "# 연습문제 3-1. 짝 지을 수 있는 모든 조합을 출력"
      ],
      "metadata": {
        "id": "ArXGb3eSkwaP"
      }
    },
    {
      "cell_type": "code",
      "source": [
        "def make_couple(a):\n",
        "  n = len(a)\n",
        "  for i in range(n-1):\n",
        "    for j in range(i+1,n):\n",
        "      k = a[i]+\"-\"+a[j]\n",
        "      print(k)\n",
        "\n",
        "v = [\"Tom\", \"Jerry\", \"Mike\",\"Fake\"]\n",
        "print(make_couple(v))\n"
      ],
      "metadata": {
        "colab": {
          "base_uri": "https://localhost:8080/"
        },
        "id": "tHZeQMVmkww1",
        "outputId": "9d6a1ce3-7a49-44dd-8cc8-3ee9402aad0b"
      },
      "execution_count": null,
      "outputs": [
        {
          "output_type": "stream",
          "name": "stdout",
          "text": [
            "Tom-Jerry\n",
            "Tom-Mike\n",
            "Tom-Fake\n",
            "Jerry-Mike\n",
            "Jerry-Fake\n",
            "Mike-Fake\n",
            "None\n"
          ]
        }
      ]
    },
    {
      "cell_type": "markdown",
      "source": [
        "# 프로그램 4-1. 팩토리얼 구하기 (단순 곱셈)\n",
        "O(n)"
      ],
      "metadata": {
        "id": "5pA4KDQrn4eX"
      }
    },
    {
      "cell_type": "code",
      "source": [
        "def fact(n):\n",
        "   s = 1\n",
        "   for i in range(1, n+1):\n",
        "      s *= i\n",
        "   return(s)\n",
        "\n",
        "print(fact(10))"
      ],
      "metadata": {
        "colab": {
          "base_uri": "https://localhost:8080/"
        },
        "id": "Vdd7E6v3n4w5",
        "outputId": "fdd3b78b-c558-4ef4-920f-5f0f6f737969"
      },
      "execution_count": null,
      "outputs": [
        {
          "output_type": "stream",
          "name": "stdout",
          "text": [
            "3628800\n"
          ]
        }
      ]
    },
    {
      "cell_type": "markdown",
      "source": [
        "# 프로그램 4-2. 팩토리얼을 구하는 알고리즘2. (재귀호출 이용)\n",
        "O(n)"
      ],
      "metadata": {
        "id": "mXvCoZ3BpF-U"
      }
    },
    {
      "cell_type": "code",
      "source": [
        "def fact(n):\n",
        "  if n <= 1:\n",
        "    return 1\n",
        "  return n*fact(n-1)\n",
        "\n",
        "print(fact(10))"
      ],
      "metadata": {
        "colab": {
          "base_uri": "https://localhost:8080/"
        },
        "id": "qky9Hm9JpGSC",
        "outputId": "b323cc54-c392-4592-df17-de377f7fa66d"
      },
      "execution_count": null,
      "outputs": [
        {
          "output_type": "stream",
          "name": "stdout",
          "text": [
            "3628800\n"
          ]
        }
      ]
    },
    {
      "cell_type": "markdown",
      "source": [
        "# 연습문제 4-1. 1부터 n까지 합구하기 재귀호출 이용"
      ],
      "metadata": {
        "id": "5pBeU2iQsoU4"
      }
    },
    {
      "cell_type": "code",
      "source": [
        "def sum_n(n):\n",
        "  if n <= 1:\n",
        "    return 1\n",
        "  return n + sum_n(n-1)\n",
        "\n",
        "print(sum_n(100))"
      ],
      "metadata": {
        "colab": {
          "base_uri": "https://localhost:8080/"
        },
        "id": "yZwNJ1Rbsonw",
        "outputId": "37f41f1a-86bd-4a1c-b5d3-71f85169dea4"
      },
      "execution_count": null,
      "outputs": [
        {
          "output_type": "stream",
          "name": "stdout",
          "text": [
            "5050\n"
          ]
        }
      ]
    },
    {
      "cell_type": "markdown",
      "source": [
        "# 연습문제 4-2. 숫자 n개 중에 최댓값 찾기 재귀호출 이용"
      ],
      "metadata": {
        "id": "mLe55MZJtTQG"
      }
    },
    {
      "cell_type": "code",
      "source": [
        "def find_max(a):\n",
        "  n = len(a)\n",
        "  max_idx=n\n",
        "\n",
        "  if n <= 0:\n",
        "    return a[max_idx]"
      ],
      "metadata": {
        "id": "Jkxl3MMMtTxC"
      },
      "execution_count": null,
      "outputs": []
    },
    {
      "cell_type": "markdown",
      "source": [
        "# 문제06 하노이의 탑 옮기기"
      ],
      "metadata": {
        "id": "9DSIoqU-s7L2"
      }
    },
    {
      "cell_type": "code",
      "source": [
        "def hanoi(n,from_pos,to_pos,aux_pos):\n",
        "  if n == 1:\n",
        "    print(from_pos, \"->\", to_pos)\n",
        "    return\n",
        "\n",
        "  hanoi(n-1,from_pos,aux_pos,to_pos)\n",
        "  print(from_pos, \"->\", to_pos)\n",
        "  hanoi(n-1,aux_pos,to_pos,from_pos)\n",
        "\n",
        "hanoi(1,1,3,2)\n",
        "hanoi(2,1,3,2)"
      ],
      "metadata": {
        "colab": {
          "base_uri": "https://localhost:8080/"
        },
        "id": "qzhs2w4KtDlJ",
        "outputId": "900d16d9-4d7e-444b-fa58-0ac4ecc8b6a3"
      },
      "execution_count": null,
      "outputs": [
        {
          "output_type": "stream",
          "name": "stdout",
          "text": [
            "1 -> 3\n",
            "1 -> 2\n",
            "1 -> 3\n",
            "2 -> 3\n"
          ]
        }
      ]
    },
    {
      "cell_type": "markdown",
      "source": [
        "# 문제07 순차탐색"
      ],
      "metadata": {
        "id": "sFXYj_cPO7m3"
      }
    },
    {
      "cell_type": "markdown",
      "source": [
        "### 프로그램7-1\n",
        "주어진 리스트에서 특정값을 찾아서 해당 위치를 돌려주는 프로그램"
      ],
      "metadata": {
        "id": "k0Lj7H9SPCuw"
      }
    },
    {
      "cell_type": "code",
      "source": [
        "def search_list(a,x):\n",
        "  n = len(a)\n",
        "  for i in range(0,n):\n",
        "    if x == a[i]:\n",
        "      return i\n",
        "\n",
        "  return -1\n",
        "\n",
        "v = [17,92,18,33,58,7,33,42]\n",
        "print(search_list(v,92))\n",
        "print(search_list(v,33))\n",
        "print(search_list(v,600))\n",
        "\n",
        "# 33은 3과 6으로 두 번 나오는데 앞에꺼 위치만 출력됨!\n",
        "# 600은 리스트에 없으니까 -1 출력됨"
      ],
      "metadata": {
        "colab": {
          "base_uri": "https://localhost:8080/"
        },
        "id": "0bmSy8r0O3Z3",
        "outputId": "e950b941-aa8a-4726-8c76-b3b7427f64de"
      },
      "execution_count": null,
      "outputs": [
        {
          "output_type": "stream",
          "name": "stdout",
          "text": [
            "1\n",
            "3\n",
            "-1\n"
          ]
        }
      ]
    },
    {
      "cell_type": "markdown",
      "source": [
        "### 연습으로 해봤습니다."
      ],
      "metadata": {
        "id": "lcmaoO3hPVdf"
      }
    },
    {
      "cell_type": "code",
      "source": [
        "def search_list(a,x):\n",
        "  n = len(a)\n",
        "  for i in range(0,n):\n",
        "    if x == a[i]:\n",
        "      return i\n",
        "\n",
        "  return -1\n",
        "\n",
        "v = [1,5,6,1,2,4,6,9]\n",
        "print(search_list(v,9))"
      ],
      "metadata": {
        "colab": {
          "base_uri": "https://localhost:8080/"
        },
        "id": "W9YQrIEIPUbg",
        "outputId": "01dc79ec-9735-4515-c44a-9cbda05a3db7"
      },
      "execution_count": null,
      "outputs": [
        {
          "output_type": "stream",
          "name": "stdout",
          "text": [
            "7\n"
          ]
        }
      ]
    },
    {
      "cell_type": "markdown",
      "source": [
        "# 연습문제7-1 찾는값이 나오는 모든 위치를 리스트로 돌려주기\n",
        "## 시간복잡도 O(n)"
      ],
      "metadata": {
        "id": "MiIAYhCcQdcZ"
      }
    },
    {
      "cell_type": "code",
      "source": [
        "def search_every(a,x):\n",
        "  n = len(a)\n",
        "  indx = []\n",
        "  for i in range(0,n):\n",
        "    if x == a[i]:\n",
        "      indx.append(i)\n",
        "  return indx\n",
        "\n",
        "v = [1,5,6,1,2,4,6,9]\n",
        "print(search_every(v,1))\n",
        "print(search_every(v,4))\n",
        "print(search_every(v,0))"
      ],
      "metadata": {
        "colab": {
          "base_uri": "https://localhost:8080/"
        },
        "id": "9un6e9BxQdDq",
        "outputId": "a312e8af-cc2c-424d-a13f-b069d8a5bd45"
      },
      "execution_count": null,
      "outputs": [
        {
          "output_type": "stream",
          "name": "stdout",
          "text": [
            "[0, 3]\n",
            "[5]\n",
            "[]\n"
          ]
        }
      ]
    },
    {
      "cell_type": "markdown",
      "source": [
        "# 연습문제7-2 학생번호 리스트"
      ],
      "metadata": {
        "id": "jVtQ7K5ERlSp"
      }
    },
    {
      "cell_type": "code",
      "source": [
        "def find_stu_no(a,b,x):  # a는 stu_no, b는 stu_name, x는 변수\n",
        "  n = len(a)\n",
        "  for i in range(n):\n",
        "    if x == a[i]:\n",
        "      return b[i]\n",
        "\n",
        "  c = \"?\"\n",
        "  return c\n",
        "\n",
        "stu_no = [39,14,67,105]\n",
        "stu_name = [\"지원\", \"형준\", \"우석\", \"예원\"]\n",
        "print(find_stu_no(stu_no,stu_name,105))\n",
        "\n"
      ],
      "metadata": {
        "colab": {
          "base_uri": "https://localhost:8080/"
        },
        "id": "UYK0HUJiRpbN",
        "outputId": "9a049784-7ce7-4f7d-b52e-7d14c740d924"
      },
      "execution_count": null,
      "outputs": [
        {
          "output_type": "stream",
          "name": "stdout",
          "text": [
            "예원\n"
          ]
        }
      ]
    },
    {
      "cell_type": "markdown",
      "source": [
        "# 프로그램10-1 쉽게 설명한 병합 알고리즘"
      ],
      "metadata": {
        "id": "RYAdWZ0iCyEb"
      }
    },
    {
      "cell_type": "code",
      "source": [
        "def merge_sort(a):\n",
        "  n = len(a)\n",
        "  if n <= 1:\n",
        "    return a\n",
        "\n",
        "  mid = n // 2\n",
        "  g1 = merge_sort(a[:mid])\n",
        "  g2 = merge_sort(a[mid:])\n",
        "\n",
        "  result = []\n",
        "\n",
        "  while g1 and g2:\n",
        "    if g1[0] < g2[0]:\n",
        "      result.append(g1.pop(0))\n",
        "    else:\n",
        "      result.append(g2.pop(0))\n",
        "\n",
        "  while g1:\n",
        "    result.append(g1.pop(0))\n",
        "  while g2:\n",
        "    result.append(g2.pop(0))\n",
        "  return result\n",
        "\n",
        "d= [2,5,4,6,3,1,8,7,9]\n",
        "print(merge_sort(d))"
      ],
      "metadata": {
        "colab": {
          "base_uri": "https://localhost:8080/"
        },
        "id": "h0Eo4FzoC2GV",
        "outputId": "bf2a099d-2fb8-45af-f199-684ea181aef7"
      },
      "execution_count": null,
      "outputs": [
        {
          "output_type": "stream",
          "name": "stdout",
          "text": [
            "[1, 2, 3, 4, 5, 6, 7, 8, 9]\n"
          ]
        }
      ]
    },
    {
      "cell_type": "markdown",
      "source": [
        "# 프로그램10-2 일반적인 병합정렬 알고리즘"
      ],
      "metadata": {
        "id": "0r9tYU_ZEm_F"
      }
    },
    {
      "cell_type": "code",
      "source": [
        "def merge_sort(a):\n",
        "  n = len(a)\n",
        "  if n <= 1:\n",
        "    return a\n",
        "\n",
        "  mid = n // 2\n",
        "  g1 = merge_sort(a[:mid])\n",
        "  g2 = merge_sort(a[mid:])\n",
        "\n",
        "\n",
        "  i1=0\n",
        "  i2=0\n",
        "  ia=0\n",
        "  while i1 < len(g1) and i2 < len(g2):\n",
        "    if g1[i1] < g2[i2]:\n",
        "      a[ia] = g1[i1]\n",
        "      ia += 1\n",
        "      i1 += 1\n",
        "    else:\n",
        "      a[ia] = g2[i2]\n",
        "      ia += 1\n",
        "      i2 += 1\n",
        "\n",
        "  while i1 < len(g1):\n",
        "    a[ia]=g1[i1]\n",
        "    ia += 1\n",
        "    i1 += 1\n",
        "\n",
        "  while i2 < len(g2):\n",
        "    a[ia] = g2[i2]\n",
        "    ia += 1\n",
        "    i2 += 1\n",
        "\n",
        "  return a\n",
        "\n",
        "d= [5,3,4,9,8,2,7,6,1]\n",
        "print(merge_sort(d))"
      ],
      "metadata": {
        "colab": {
          "base_uri": "https://localhost:8080/"
        },
        "id": "qCtygOU4Eq7n",
        "outputId": "0d77991c-9c31-43b2-e039-b2b58b8db0a7"
      },
      "execution_count": null,
      "outputs": [
        {
          "output_type": "stream",
          "name": "stdout",
          "text": [
            "[1, 2, 3, 4, 5, 6, 7, 8, 9]\n"
          ]
        }
      ]
    },
    {
      "cell_type": "markdown",
      "source": [
        "# 4번째 과제"
      ],
      "metadata": {
        "id": "_HzqGvdxJhOR"
      }
    },
    {
      "cell_type": "code",
      "source": [
        "your_coin=int(input(\"거스름돈 액수를 입력하세요(최소금액은 10원 단위): \"))\n",
        "my_coin=0\n",
        "a = 0\n",
        "b=0\n",
        "c=0\n",
        "d=0\n",
        "while your_coin > 0:\n",
        "\tif your_coin >= 500:\n",
        "\t\tmy_coin += 500\n",
        "\t\tyour_coin -= 500\n",
        "\t\ta += 1\n",
        "\telif 100 <= your_coin < 500:\n",
        "\t\tmy_coin += 100\n",
        "\t\tyour_coin -= 100\n",
        "\t\tb += 1\n",
        "\telif 50 <= your_coin < 100:\n",
        "\t\tmy_coin += 50\n",
        "\t\tyour_coin -= 50\n",
        "\t\tc += 1\n",
        "\telif your_coin >= 10:\n",
        "\t\tmy_coin += 10\n",
        "\t\tyour_coin -= 10\n",
        "\t\td += 1\n",
        "\n",
        "print(f\"거스름돈은 500원 {a}개, 100원 {b}개, 50원 {c}개, 10원 {d}개입니다.\")"
      ],
      "metadata": {
        "id": "KdsWwLLz8Ik1",
        "colab": {
          "base_uri": "https://localhost:8080/"
        },
        "outputId": "b0e16acc-a27b-4208-a76a-2a931d6b6c0f"
      },
      "execution_count": null,
      "outputs": [
        {
          "output_type": "stream",
          "name": "stdout",
          "text": [
            "거스름돈 액수를 입력하세요(최소금액은 10원 단위): 780\n",
            "거스름돈은 500원 1개, 100원 2개, 50원 1개, 10원 3개입니다.\n"
          ]
        }
      ]
    },
    {
      "cell_type": "markdown",
      "source": [
        "# 프로그램 8-1. 쉽게 설명한 선택 정렬 알고리즘"
      ],
      "metadata": {
        "id": "ikPjsmd9Jmnk"
      }
    },
    {
      "cell_type": "code",
      "source": [
        "def find_min_idx(a):\n",
        "  n= len(a)\n",
        "  min_idx=0\n",
        "  for i in range(n):\n",
        "    if a[i] < a[min_idx]:\n",
        "      min_idx=i\n",
        "  return min_idx\n",
        "\n",
        "def sel_sort(a):\n",
        "  result=[]\n",
        "  while a:\n",
        "    min_idx=find_min_idx(a)\n",
        "    value=a.pop(min_idx)\n",
        "    result.append(value)\n",
        "  return result\n",
        "\n",
        "d = [2,4,5,1,3]\n",
        "print(sel_sort(d))"
      ],
      "metadata": {
        "id": "pZ7IvREzNnn7",
        "colab": {
          "base_uri": "https://localhost:8080/"
        },
        "outputId": "b0190a7e-69bf-4688-f39d-c6c9a0734891"
      },
      "execution_count": null,
      "outputs": [
        {
          "output_type": "stream",
          "name": "stdout",
          "text": [
            "[1, 2, 3, 4, 5]\n"
          ]
        }
      ]
    },
    {
      "cell_type": "markdown",
      "source": [
        "# 프로그램 8-2. 일반적인 선택 정렬 알고리즘"
      ],
      "metadata": {
        "id": "tBaEPsdMMPmE"
      }
    },
    {
      "cell_type": "code",
      "source": [
        "def sel_sort(a):\n",
        "  n=len(a)\n",
        "  for i in range(n-1):      # 뒤에서 그 앞번호까지만 반복\n",
        "    min_idx=i\n",
        "    for j in range(i+1,n):\n",
        "      if a[j]<a[min_idx]:\n",
        "        min_idx=j\n",
        "    a[i],a[min_idx]=a[min_idx],a[i]     # 스왑 해주는 거\n",
        "\n",
        "\n",
        "d=[2,3,5,4,1]\n",
        "sel_sort(d)\n",
        "print(d)\n"
      ],
      "metadata": {
        "colab": {
          "base_uri": "https://localhost:8080/"
        },
        "id": "jCe6l1rxLrju",
        "outputId": "d5dd5882-80b2-4026-9179-d39b0cd8bd2f"
      },
      "execution_count": null,
      "outputs": [
        {
          "output_type": "stream",
          "name": "stdout",
          "text": [
            "[1, 2, 3, 4, 5]\n"
          ]
        }
      ]
    },
    {
      "cell_type": "code",
      "source": [
        "a = [\"e\", \"E\", \"a\", \"o\", \"L\"]\n",
        "\n",
        "for eeaol in a:\n",
        "    if \"a\" <= eeaol <= \"z\":\n",
        "        print(\"True\")\n",
        "    elif \"A\" <= eeaol <= \"Z\":\n",
        "        print(\"예\")\n"
      ],
      "metadata": {
        "colab": {
          "base_uri": "https://localhost:8080/"
        },
        "id": "ZOfBUWQoZYOB",
        "outputId": "be91d1ef-7c4f-47ad-a08a-c787af0187f6"
      },
      "execution_count": null,
      "outputs": [
        {
          "output_type": "stream",
          "name": "stdout",
          "text": [
            "True\n",
            "예\n",
            "True\n",
            "True\n",
            "예\n"
          ]
        }
      ]
    },
    {
      "cell_type": "markdown",
      "source": [
        "# 4번째 과제"
      ],
      "metadata": {
        "id": "ekoxuvm0MZ3Q"
      }
    },
    {
      "cell_type": "code",
      "source": [
        "def count_characters(a):\n",
        "\n",
        "\ta = list(map(str,input(\"문자를 띄어서 입력하세요(영어로): \").split()))\n",
        "\tprint(a)\n",
        "\n",
        "\tsmall_count = 0\n",
        "\tbig_count = 0\n",
        "\tnothing_count = 0\n",
        "\n",
        "\tfor asdf in a:\n",
        "\t\tif \"a\" <= asdf <= \"z\":\n",
        "\t\t\tsmall_count += 1\n",
        "\t\telif \"A\" <= asdf <= \"Z\":\n",
        "\t\t\tbig_count += 1\n",
        "\t\telse:\n",
        "\t\t\tnothing_count += 1\n",
        "\tprint(\"소문자: {}개\".format(small_count))\n",
        "\tprint(\"대문자: {}개\".format(big_count))\n",
        "\tprint(\"기타문자: {}개\".format(nothing_count))\n",
        "\n",
        "count_characters(a)\n"
      ],
      "metadata": {
        "colab": {
          "base_uri": "https://localhost:8080/"
        },
        "id": "7uLCeP7Rdy6K",
        "outputId": "529cc1fa-af12-4b24-eaad-9b64ab7c74ea"
      },
      "execution_count": null,
      "outputs": [
        {
          "output_type": "stream",
          "name": "stdout",
          "text": [
            "문자를 띄어서 입력하세요(영어로): d e p E E F - +\n",
            "['d', 'e', 'p', 'E', 'E', 'F', '-', '+']\n",
            "소문자: 3개\n",
            "대문자: 3개\n",
            "기타문자: 2개\n"
          ]
        }
      ]
    },
    {
      "cell_type": "markdown",
      "source": [
        "# 과제 (알파벳,기타문자)"
      ],
      "metadata": {
        "id": "IlcYjfBOsFA-"
      }
    },
    {
      "cell_type": "code",
      "source": [
        "\ta = list(map(str,input(\"문자를 띄어서 입력하세요(영어로): \").split()))\n",
        "\n",
        "\n",
        "\tsmall_count = 0\n",
        "\tbig_count = 0\n",
        "\tnothing_count = 0\n",
        "\n",
        "\tfor asdf in a:\n",
        "\t\tif \"a\" <= asdf <= \"z\":\n",
        "\t\t\tsmall_count += 1\n",
        "\t\telif \"A\" <= asdf <= \"Z\":\n",
        "\t\t\tbig_count += 1\n",
        "\t\telse:\n",
        "\t\t\tnothing_count += 1\n",
        "\tprint(\"소문자: {}개\".format(small_count))\n",
        "\tprint(\"대문자: {}개\".format(big_count))\n",
        "\tprint(\"기타문자: {}개\".format(nothing_count))"
      ],
      "metadata": {
        "colab": {
          "base_uri": "https://localhost:8080/"
        },
        "id": "qE4Qyy5Lhhd4",
        "outputId": "89d3f98a-c2e0-4aa7-abef-d951dab1d4d4"
      },
      "execution_count": null,
      "outputs": [
        {
          "output_type": "stream",
          "name": "stdout",
          "text": [
            "문자를 띄어서 입력하세요(영어로): d e 5 e d E E\n",
            "소문자: 4개\n",
            "대문자: 2개\n",
            "기타문자: 1개\n"
          ]
        }
      ]
    },
    {
      "cell_type": "code",
      "source": [
        "print(13//4)\n",
        "print(13/4)\n",
        "print(13%4)"
      ],
      "metadata": {
        "colab": {
          "base_uri": "https://localhost:8080/"
        },
        "id": "_OW7JTWeXft-",
        "outputId": "1f4ac203-0a57-4c3f-a75d-1a497e0b4319"
      },
      "execution_count": null,
      "outputs": [
        {
          "output_type": "stream",
          "name": "stdout",
          "text": [
            "3\n",
            "3.25\n",
            "1\n"
          ]
        }
      ]
    },
    {
      "cell_type": "code",
      "source": [],
      "metadata": {
        "id": "FVbVNdmlXkOW"
      },
      "execution_count": null,
      "outputs": []
    }
  ]
}